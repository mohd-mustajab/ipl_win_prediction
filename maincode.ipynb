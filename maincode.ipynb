{
 "cells": [
  {
   "cell_type": "code",
   "execution_count": 3,
   "id": "95c7abe5",
   "metadata": {},
   "outputs": [],
   "source": [
    "import pandas as pd\n",
    "import numpy as np\n",
    "from sklearn.model_selection import train_test_split\n",
    "from sklearn.ensemble import RandomForestClassifier\n",
    "from sklearn.preprocessing import LabelEncoder\n",
    "import pickle\n",
    "\n",
    "\n",
    "df = pd.read_csv(\"ipl_2025_matches.csv\")\n",
    "\n",
    "# Encode categorical columns\n",
    "team_encoder = LabelEncoder()\n",
    "venue_encoder = LabelEncoder()\n",
    "toss_decision_encoder = LabelEncoder()\n",
    "winner_encoder = LabelEncoder()\n",
    "\n",
    "df['team1'] = team_encoder.fit_transform(df['team1'])\n",
    "df['team2'] = team_encoder.fit_transform(df['team2'])\n",
    "df['venue'] = venue_encoder.fit_transform(df['venue'])\n",
    "df['toss_winner'] = team_encoder.fit_transform(df['toss_winner'])\n",
    "df['toss_decision'] = toss_decision_encoder.fit_transform(df['toss_decision'])\n",
    "df['winner'] = winner_encoder.fit_transform(df['winner'])\n",
    "\n",
    "# Features and label\n",
    "X = df.drop('winner', axis=1)\n",
    "y = df['winner']\n",
    "\n",
    "# Split\n",
    "X_train, X_test, y_train, y_test = train_test_split(X, y, test_size=0.2, random_state=42)\n",
    "\n",
    "# Train final model (RandomForest is best)\n",
    "model = RandomForestClassifier(n_estimators=200, random_state=42)\n",
    "model.fit(X_train, y_train)\n",
    "\n",
    "# Save everything\n",
    "pickle.dump(model, open(\"ipl_model.pkl\", \"wb\"))\n",
    "pickle.dump(team_encoder, open(\"team_encoder.pkl\", \"wb\"))\n",
    "pickle.dump(venue_encoder, open(\"venue_encoder.pkl\", \"wb\"))\n",
    "pickle.dump(toss_decision_encoder, open(\"toss_decision_encoder.pkl\", \"wb\"))\n",
    "pickle.dump(winner_encoder, open(\"winner_encoder.pkl\", \"wb\"))\n"
   ]
  },
  {
   "cell_type": "code",
   "execution_count": 4,
   "id": "d9d62021",
   "metadata": {},
   "outputs": [
    {
     "name": "stdout",
     "output_type": "stream",
     "text": [
      "🏏 Predicted Winner: Chennai Super Kings\n",
      "📈 Confidence: 38.50%\n"
     ]
    },
    {
     "name": "stderr",
     "output_type": "stream",
     "text": [
      "c:\\Users\\mustj\\AppData\\Local\\Programs\\Python\\Python313\\Lib\\site-packages\\sklearn\\utils\\validation.py:2739: UserWarning: X does not have valid feature names, but RandomForestClassifier was fitted with feature names\n",
      "  warnings.warn(\n",
      "c:\\Users\\mustj\\AppData\\Local\\Programs\\Python\\Python313\\Lib\\site-packages\\sklearn\\utils\\validation.py:2739: UserWarning: X does not have valid feature names, but RandomForestClassifier was fitted with feature names\n",
      "  warnings.warn(\n"
     ]
    }
   ],
   "source": [
    "#Manually prediction\n",
    "import pickle\n",
    "\n",
    "# Load saved model + encoders\n",
    "model = pickle.load(open(\"ipl_model.pkl\", \"rb\"))\n",
    "team_encoder = pickle.load(open(\"team_encoder.pkl\", \"rb\"))\n",
    "venue_encoder = pickle.load(open(\"venue_encoder.pkl\", \"rb\"))\n",
    "toss_decision_encoder = pickle.load(open(\"toss_decision_encoder.pkl\", \"rb\"))\n",
    "winner_encoder = pickle.load(open(\"winner_encoder.pkl\", \"rb\"))\n",
    "\n",
    "# Manual input\n",
    "team1_name = \"Mumbai Indians\"\n",
    "team2_name = \"Chennai Super Kings\"\n",
    "venue_name = \"Arun Jaitley Stadium\"\n",
    "toss_winner_name = \"Mumbai Indians\"\n",
    "toss_decision_name = \"bat\"\n",
    "\n",
    "# Encode\n",
    "input_array = np.array([[\n",
    "    team_encoder.transform([team1_name])[0],\n",
    "    team_encoder.transform([team2_name])[0],\n",
    "    venue_encoder.transform([venue_name])[0],\n",
    "    team_encoder.transform([toss_winner_name])[0],\n",
    "    toss_decision_encoder.transform([toss_decision_name])[0]\n",
    "]])\n",
    "\n",
    "# Predict\n",
    "predicted_class = model.predict(input_array)[0]\n",
    "predicted_team = winner_encoder.inverse_transform([predicted_class])[0]\n",
    "predicted_proba = model.predict_proba(input_array)[0]\n",
    "confidence = max(predicted_proba) * 100\n",
    "\n",
    "print(f\"🏏 Predicted Winner: {predicted_team}\")\n",
    "print(f\"📈 Confidence: {confidence:.2f}%\")\n"
   ]
  }
 ],
 "metadata": {
  "kernelspec": {
   "display_name": "Python 3",
   "language": "python",
   "name": "python3"
  },
  "language_info": {
   "codemirror_mode": {
    "name": "ipython",
    "version": 3
   },
   "file_extension": ".py",
   "mimetype": "text/x-python",
   "name": "python",
   "nbconvert_exporter": "python",
   "pygments_lexer": "ipython3",
   "version": "3.13.3"
  }
 },
 "nbformat": 4,
 "nbformat_minor": 5
}
